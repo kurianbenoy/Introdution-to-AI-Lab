{
  "nbformat": 4,
  "nbformat_minor": 0,
  "metadata": {
    "colab": {
      "name": "Untitled40.ipynb",
      "provenance": []
    },
    "kernelspec": {
      "name": "python3",
      "display_name": "Python 3"
    },
    "language_info": {
      "name": "python"
    }
  },
  "cells": [
    {
      "cell_type": "code",
      "source": [
        "from sklearn import tree\n",
        "import graphviz "
      ],
      "metadata": {
        "id": "NU7BPe2QePPZ"
      },
      "execution_count": null,
      "outputs": []
    },
    {
      "cell_type": "code",
      "source": [
        "!wget https://raw.githubusercontent.com/plotly/datasets/master/diabetes.csv"
      ],
      "metadata": {
        "colab": {
          "base_uri": "https://localhost:8080/"
        },
        "id": "qOn4SbC3eQkh",
        "outputId": "ce634a4e-f70a-45f1-f379-e00a4e464d47"
      },
      "execution_count": null,
      "outputs": [
        {
          "output_type": "stream",
          "name": "stdout",
          "text": [
            "--2022-02-24 06:44:24--  https://raw.githubusercontent.com/plotly/datasets/master/diabetes.csv\n",
            "Resolving raw.githubusercontent.com (raw.githubusercontent.com)... 185.199.108.133, 185.199.109.133, 185.199.110.133, ...\n",
            "Connecting to raw.githubusercontent.com (raw.githubusercontent.com)|185.199.108.133|:443... connected.\n",
            "HTTP request sent, awaiting response... 200 OK\n",
            "Length: 23873 (23K) [text/plain]\n",
            "Saving to: ‘diabetes.csv’\n",
            "\n",
            "\rdiabetes.csv          0%[                    ]       0  --.-KB/s               \rdiabetes.csv        100%[===================>]  23.31K  --.-KB/s    in 0.001s  \n",
            "\n",
            "2022-02-24 06:44:24 (19.4 MB/s) - ‘diabetes.csv’ saved [23873/23873]\n",
            "\n"
          ]
        }
      ]
    },
    {
      "cell_type": "code",
      "source": [
        "with open(\"diabetes.csv\", \"r\") as f:\n",
        "    data = f.readlines()\n",
        "feats = data[0]\n",
        "feats = feats.replace('\\n','')\n",
        "feats = feats.split(\",\")"
      ],
      "metadata": {
        "id": "l9wfluMWeUrR"
      },
      "execution_count": null,
      "outputs": []
    },
    {
      "cell_type": "code",
      "source": [
        "print(feats)"
      ],
      "metadata": {
        "colab": {
          "base_uri": "https://localhost:8080/"
        },
        "id": "3trfbkThef5R",
        "outputId": "1664d44c-24bd-4376-9e94-0ba997eb3732"
      },
      "execution_count": null,
      "outputs": [
        {
          "output_type": "stream",
          "name": "stdout",
          "text": [
            "['Pregnancies', 'Glucose', 'BloodPressure', 'SkinThickness', 'Insulin', 'BMI', 'DiabetesPedigreeFunction', 'Age', 'Outcome']\n"
          ]
        }
      ]
    },
    {
      "cell_type": "code",
      "source": [
        "feats = feats[0:(len(feats)-1)]\t\n",
        "dat = []\t\t\t\t\n",
        "labs = []\t\t\t\n",
        "for i in range(1,len(data)):\t\n",
        "     line = data[i]\t\t\n",
        "     line = line.replace('\\n','')\t\t\n",
        "     csvline = line.split(\",\")\t\t\n",
        "     labs = labs + [int(csvline[len(csvline)-1])]\n",
        "     csvline = [float(csvline[i]) for i in range(len(csvline)-1)]\n",
        "     dat = dat + [csvline]\t\t"
      ],
      "metadata": {
        "id": "_fASgVTPenF4"
      },
      "execution_count": null,
      "outputs": []
    },
    {
      "cell_type": "code",
      "source": [
        "print(len(dat))"
      ],
      "metadata": {
        "colab": {
          "base_uri": "https://localhost:8080/"
        },
        "id": "jqjP2muoevHY",
        "outputId": "600b1ca5-6a6a-416b-b4f1-1614a761f476"
      },
      "execution_count": null,
      "outputs": [
        {
          "output_type": "stream",
          "name": "stdout",
          "text": [
            "768\n"
          ]
        }
      ]
    },
    {
      "cell_type": "code",
      "source": [
        "print(dat[15])"
      ],
      "metadata": {
        "colab": {
          "base_uri": "https://localhost:8080/"
        },
        "id": "67pVfDUce1bx",
        "outputId": "720a085b-ebe5-4c1b-e5bb-f2e12b9f9e34"
      },
      "execution_count": null,
      "outputs": [
        {
          "output_type": "stream",
          "name": "stdout",
          "text": [
            "[7.0, 100.0, 0.0, 0.0, 0.0, 30.0, 0.484, 32.0]\n"
          ]
        }
      ]
    },
    {
      "cell_type": "code",
      "source": [
        "clf = tree.DecisionTreeClassifier(max_leaf_nodes = 3)\t\n",
        "clf = clf.fit(dat, labs)\t"
      ],
      "metadata": {
        "id": "WkyrqcB7e8kZ"
      },
      "execution_count": null,
      "outputs": []
    },
    {
      "cell_type": "code",
      "source": [
        "correct = 0\t\t\t\t\t\t\n",
        "for i in range(len(dat)):\t\n",
        "    if clf.predict([dat[i]]) == labs[i]: correct = correct + 1\n",
        "100.0* correct / len(dat)"
      ],
      "metadata": {
        "colab": {
          "base_uri": "https://localhost:8080/"
        },
        "id": "-Ne47GnhfGwb",
        "outputId": "567f9563-c18c-45c6-f3c6-664bbc6a3d60"
      },
      "execution_count": null,
      "outputs": [
        {
          "output_type": "execute_result",
          "data": {
            "text/plain": [
              "77.21354166666667"
            ]
          },
          "metadata": {},
          "execution_count": 15
        }
      ]
    }
  ]
}