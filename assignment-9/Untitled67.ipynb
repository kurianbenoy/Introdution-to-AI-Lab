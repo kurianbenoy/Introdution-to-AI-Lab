{
  "nbformat": 4,
  "nbformat_minor": 0,
  "metadata": {
    "colab": {
      "name": "Untitled67.ipynb",
      "provenance": []
    },
    "kernelspec": {
      "name": "python3",
      "display_name": "Python 3"
    },
    "language_info": {
      "name": "python"
    }
  },
  "cells": [
    {
      "cell_type": "code",
      "execution_count": null,
      "metadata": {
        "id": "KgwY6lHLmKsY"
      },
      "outputs": [],
      "source": [
        "import keras \n",
        "\n",
        "from keras.datasets import boston_housing \n",
        "from keras.models import Sequential \n",
        "from keras.layers import Dense \n",
        "from tensorflow.keras.optimizers import Adam, SGD, RMSprop\n",
        "from keras.callbacks import EarlyStopping \n",
        "from sklearn import preprocessing \n",
        "from sklearn.preprocessing import scale"
      ]
    },
    {
      "cell_type": "code",
      "source": [
        "(x_train, y_train), (x_test, y_test) = boston_housing.load_data()"
      ],
      "metadata": {
        "colab": {
          "base_uri": "https://localhost:8080/"
        },
        "id": "8Q1Mxa7GtjUR",
        "outputId": "1c77868a-5780-45b3-afc1-154688c4f798"
      },
      "execution_count": null,
      "outputs": [
        {
          "output_type": "stream",
          "name": "stdout",
          "text": [
            "Downloading data from https://storage.googleapis.com/tensorflow/tf-keras-datasets/boston_housing.npz\n",
            "57344/57026 [==============================] - 0s 0us/step\n",
            "65536/57026 [==================================] - 0s 0us/step\n"
          ]
        }
      ]
    },
    {
      "cell_type": "code",
      "source": [
        "x_train_scaled = preprocessing.scale(x_train) \n",
        "scaler = preprocessing.StandardScaler().fit(x_train) \n",
        "x_test_scaled = scaler.transform(x_test)"
      ],
      "metadata": {
        "id": "A_zxQ6J3tnyG"
      },
      "execution_count": null,
      "outputs": []
    },
    {
      "cell_type": "code",
      "source": [
        "model = Sequential() \n",
        "model.add(Dense(64, kernel_initializer = 'normal', activation = 'relu',\n",
        "input_shape = (13,))) \n",
        "model.add(Dense(64, activation = 'relu'))\n",
        "model.add(Dense(1))"
      ],
      "metadata": {
        "id": "CNrVIvuXtsL_"
      },
      "execution_count": null,
      "outputs": []
    },
    {
      "cell_type": "code",
      "source": [
        "model.compile(\n",
        "   loss = 'mse', \n",
        "   optimizer = RMSprop(), \n",
        "   metrics = ['mean_absolute_error']\n",
        ")"
      ],
      "metadata": {
        "id": "hXqM-WRUt07o"
      },
      "execution_count": null,
      "outputs": []
    },
    {
      "cell_type": "code",
      "source": [
        "history = model.fit(\n",
        "   x_train_scaled, y_train,    \n",
        "   batch_size=128, \n",
        "   epochs = 100, \n",
        "   verbose = 1, \n",
        "   validation_split = 0.2, \n",
        "   callbacks = [EarlyStopping(monitor = 'val_loss', patience = 20)]\n",
        ")"
      ],
      "metadata": {
        "colab": {
          "base_uri": "https://localhost:8080/"
        },
        "id": "iW057nFkt-Cv",
        "outputId": "3a3f03cf-13fb-418d-8c7a-c4a0304e034b"
      },
      "execution_count": null,
      "outputs": [
        {
          "output_type": "stream",
          "name": "stdout",
          "text": [
            "Epoch 1/100\n",
            "3/3 [==============================] - 0s 32ms/step - loss: 7.7325 - mean_absolute_error: 1.9169 - val_loss: 13.5841 - val_mean_absolute_error: 2.4700\n",
            "Epoch 2/100\n",
            "3/3 [==============================] - 0s 15ms/step - loss: 7.6403 - mean_absolute_error: 1.9295 - val_loss: 13.3723 - val_mean_absolute_error: 2.5844\n",
            "Epoch 3/100\n",
            "3/3 [==============================] - 0s 17ms/step - loss: 7.9093 - mean_absolute_error: 1.9424 - val_loss: 13.6369 - val_mean_absolute_error: 2.4746\n",
            "Epoch 4/100\n",
            "3/3 [==============================] - 0s 15ms/step - loss: 7.6106 - mean_absolute_error: 1.9185 - val_loss: 13.3059 - val_mean_absolute_error: 2.5470\n",
            "Epoch 5/100\n",
            "3/3 [==============================] - 0s 18ms/step - loss: 7.7637 - mean_absolute_error: 1.9477 - val_loss: 13.4516 - val_mean_absolute_error: 2.5393\n",
            "Epoch 6/100\n",
            "3/3 [==============================] - 0s 17ms/step - loss: 7.7567 - mean_absolute_error: 1.8985 - val_loss: 13.5425 - val_mean_absolute_error: 2.5779\n",
            "Epoch 7/100\n",
            "3/3 [==============================] - 0s 23ms/step - loss: 7.6992 - mean_absolute_error: 1.8949 - val_loss: 14.3446 - val_mean_absolute_error: 2.5194\n",
            "Epoch 8/100\n",
            "3/3 [==============================] - 0s 16ms/step - loss: 7.8241 - mean_absolute_error: 1.9475 - val_loss: 14.8895 - val_mean_absolute_error: 2.6728\n",
            "Epoch 9/100\n",
            "3/3 [==============================] - 0s 16ms/step - loss: 8.0402 - mean_absolute_error: 2.0155 - val_loss: 13.9565 - val_mean_absolute_error: 2.4806\n",
            "Epoch 10/100\n",
            "3/3 [==============================] - 0s 15ms/step - loss: 7.7052 - mean_absolute_error: 1.9383 - val_loss: 14.5343 - val_mean_absolute_error: 2.5959\n",
            "Epoch 11/100\n",
            "3/3 [==============================] - 0s 16ms/step - loss: 7.5324 - mean_absolute_error: 1.9428 - val_loss: 13.6419 - val_mean_absolute_error: 2.4965\n",
            "Epoch 12/100\n",
            "3/3 [==============================] - 0s 15ms/step - loss: 7.6865 - mean_absolute_error: 1.9130 - val_loss: 13.7218 - val_mean_absolute_error: 2.5003\n",
            "Epoch 13/100\n",
            "3/3 [==============================] - 0s 16ms/step - loss: 7.4577 - mean_absolute_error: 1.8919 - val_loss: 14.2720 - val_mean_absolute_error: 2.6761\n",
            "Epoch 14/100\n",
            "3/3 [==============================] - 0s 17ms/step - loss: 7.6751 - mean_absolute_error: 1.9268 - val_loss: 13.4235 - val_mean_absolute_error: 2.4802\n",
            "Epoch 15/100\n",
            "3/3 [==============================] - 0s 17ms/step - loss: 7.3803 - mean_absolute_error: 1.8782 - val_loss: 13.8981 - val_mean_absolute_error: 2.4656\n",
            "Epoch 16/100\n",
            "3/3 [==============================] - 0s 16ms/step - loss: 7.6632 - mean_absolute_error: 1.9227 - val_loss: 13.4215 - val_mean_absolute_error: 2.5062\n",
            "Epoch 17/100\n",
            "3/3 [==============================] - 0s 17ms/step - loss: 7.6095 - mean_absolute_error: 1.9002 - val_loss: 14.0839 - val_mean_absolute_error: 2.4366\n",
            "Epoch 18/100\n",
            "3/3 [==============================] - 0s 15ms/step - loss: 7.4870 - mean_absolute_error: 1.9290 - val_loss: 13.4903 - val_mean_absolute_error: 2.4647\n",
            "Epoch 19/100\n",
            "3/3 [==============================] - 0s 19ms/step - loss: 7.3994 - mean_absolute_error: 1.8782 - val_loss: 13.3238 - val_mean_absolute_error: 2.4982\n",
            "Epoch 20/100\n",
            "3/3 [==============================] - 0s 22ms/step - loss: 7.4888 - mean_absolute_error: 1.8926 - val_loss: 13.5771 - val_mean_absolute_error: 2.4723\n",
            "Epoch 21/100\n",
            "3/3 [==============================] - 0s 17ms/step - loss: 7.2450 - mean_absolute_error: 1.8393 - val_loss: 14.1285 - val_mean_absolute_error: 2.5958\n",
            "Epoch 22/100\n",
            "3/3 [==============================] - 0s 15ms/step - loss: 7.5763 - mean_absolute_error: 1.9459 - val_loss: 13.7982 - val_mean_absolute_error: 2.5914\n",
            "Epoch 23/100\n",
            "3/3 [==============================] - 0s 16ms/step - loss: 7.5396 - mean_absolute_error: 1.9183 - val_loss: 13.9857 - val_mean_absolute_error: 2.5948\n",
            "Epoch 24/100\n",
            "3/3 [==============================] - 0s 16ms/step - loss: 7.3636 - mean_absolute_error: 1.8679 - val_loss: 13.5436 - val_mean_absolute_error: 2.4713\n"
          ]
        }
      ]
    },
    {
      "cell_type": "code",
      "source": [
        "score = model.evaluate(x_test_scaled, y_test, verbose = 0) \n",
        "print('Test loss:', score[0]) \n",
        "print('Test accuracy:', score[1])"
      ],
      "metadata": {
        "id": "Vl3tzxbxuWKQ",
        "outputId": "056a4cf0-08bc-4c07-cb1f-b2ba42e00c74",
        "colab": {
          "base_uri": "https://localhost:8080/"
        }
      },
      "execution_count": null,
      "outputs": [
        {
          "output_type": "stream",
          "name": "stdout",
          "text": [
            "Test loss: 20.78321075439453\n",
            "Test accuracy: 2.8526268005371094\n"
          ]
        }
      ]
    }
  ]
}