{
  "nbformat": 4,
  "nbformat_minor": 0,
  "metadata": {
    "colab": {
      "name": "Untitled30.ipynb",
      "provenance": []
    },
    "kernelspec": {
      "name": "python3",
      "display_name": "Python 3"
    },
    "language_info": {
      "name": "python"
    }
  },
  "cells": [
    {
      "cell_type": "code",
      "execution_count": null,
      "metadata": {
        "colab": {
          "base_uri": "https://localhost:8080/"
        },
        "id": "jrveMY5PqaWK",
        "outputId": "20224aeb-aeab-42b8-9c1a-04d21f20979b"
      },
      "outputs": [
        {
          "output_type": "stream",
          "name": "stdout",
          "text": [
            "['BLUE', 'GREEN', 'BLUE', 'RED', 'RED', 'GREEN']\n",
            "['BLUE', 'GREEN', 'GREEN', 'BLUE', 'RED', 'GREEN']\n",
            "['BLUE', 'GREEN', 'GREEN', 'RED', 'RED', 'GREEN']\n",
            "['BLUE', 'RED', 'BLUE', 'GREEN', 'GREEN', 'RED']\n",
            "['BLUE', 'RED', 'RED', 'BLUE', 'GREEN', 'RED']\n",
            "['BLUE', 'RED', 'RED', 'GREEN', 'GREEN', 'RED']\n",
            "['GREEN', 'BLUE', 'BLUE', 'GREEN', 'RED', 'BLUE']\n",
            "['GREEN', 'BLUE', 'BLUE', 'RED', 'RED', 'BLUE']\n",
            "['GREEN', 'BLUE', 'GREEN', 'RED', 'RED', 'BLUE']\n",
            "['GREEN', 'RED', 'GREEN', 'BLUE', 'BLUE', 'RED']\n",
            "['GREEN', 'RED', 'RED', 'BLUE', 'BLUE', 'RED']\n",
            "['GREEN', 'RED', 'RED', 'GREEN', 'BLUE', 'RED']\n",
            "['RED', 'BLUE', 'BLUE', 'GREEN', 'GREEN', 'BLUE']\n",
            "['RED', 'BLUE', 'BLUE', 'RED', 'GREEN', 'BLUE']\n",
            "['RED', 'BLUE', 'RED', 'GREEN', 'GREEN', 'BLUE']\n",
            "['RED', 'GREEN', 'GREEN', 'BLUE', 'BLUE', 'GREEN']\n",
            "['RED', 'GREEN', 'GREEN', 'RED', 'BLUE', 'GREEN']\n",
            "['RED', 'GREEN', 'RED', 'BLUE', 'BLUE', 'GREEN']\n"
          ]
        }
      ],
      "source": [
        "class Graph:\n",
        "    # Constructor\n",
        "    def __init__(self, edges, n):\n",
        " \n",
        "        # A list of lists to represent an adjacency list\n",
        "        self.adjList = [[] for _ in range(n)]\n",
        " \n",
        "        # add edges to the undirected graph\n",
        "        for (src, dest) in edges:\n",
        "            self.adjList[src].append(dest)\n",
        "            self.adjList[dest].append(src)\n",
        " \n",
        " \n",
        "# Function to check if it is safe to assign color `c` to vertex `v`\n",
        "def isSafe(graph, color, v, c):\n",
        "    # check the color of every adjacent vertex of `v`\n",
        "    for u in graph.adjList[v]:\n",
        "        if color[u] == c:\n",
        "            return False\n",
        "    return True\n",
        " \n",
        " \n",
        "def kColorable(g, color, k, v, n):\n",
        " \n",
        "    # if all colors are assigned, print the solution\n",
        "    if v == n:\n",
        "        print([COLORS[color[v]] for v in range(n)])\n",
        "        return\n",
        " \n",
        "    # try all possible combinations of available colors\n",
        "    for c in range(1, k + 1):\n",
        "        # if it is safe to assign color `c` to vertex `v`\n",
        "        if isSafe(g, color, v, c):\n",
        "            # assign color `c` to vertex `v`\n",
        "            color[v] = c\n",
        " \n",
        "            # recur for the next vertex\n",
        "            kColorable(g, color, k, v + 1, n)\n",
        " \n",
        "            # backtrack\n",
        "            color[v] = 0\n",
        " \n",
        " \n",
        "if __name__ == '__main__':\n",
        " \n",
        "    # List of graph edges as per the above diagram\n",
        "    edges = [(0, 1), (0, 4), (0, 5), (4, 5), (1, 4), (1, 3), (2, 3), (2, 4)]\n",
        " \n",
        "    # A list to store colors (can handle 10–colorable graph)\n",
        "    COLORS = ['', 'BLUE', 'GREEN', 'RED', 'YELLOW', 'ORANGE', 'PINK',\n",
        "            'BLACK', 'BROWN', 'WHITE', 'PURPLE']\n",
        " \n",
        "    # Set number of vertices in the graph\n",
        "    n = 6\n",
        " \n",
        "    # build a graph from the given edges\n",
        "    g = Graph(edges, n)\n",
        " \n",
        "    k = 3\n",
        " \n",
        "    color = [None] * n\n",
        " \n",
        "    # print all k–colorable configurations of the graph\n",
        "    kColorable(g, color, k, 0, n)"
      ]
    }
  ]
}