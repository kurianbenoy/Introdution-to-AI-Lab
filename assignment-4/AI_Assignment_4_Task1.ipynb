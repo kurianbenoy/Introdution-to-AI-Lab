{
  "nbformat": 4,
  "nbformat_minor": 0,
  "metadata": {
    "colab": {
      "name": "AI_Assignment_4_Task1.ipynb",
      "provenance": []
    },
    "kernelspec": {
      "name": "python3",
      "display_name": "Python 3"
    },
    "language_info": {
      "name": "python"
    }
  },
  "cells": [
    {
      "cell_type": "code",
      "execution_count": 6,
      "metadata": {
        "colab": {
          "base_uri": "https://localhost:8080/"
        },
        "id": "GJ3g8I3obOED",
        "outputId": "92af7601-0b8c-42e0-98f6-fb3dcb8f9631"
      },
      "outputs": [
        {
          "output_type": "stream",
          "name": "stdout",
          "text": [
            "Starting the minimum color value m= 1\n",
            "Solution does not exist. increasing m by 1,m= 2\n",
            "Solution does not exist. increasing m by 1,m= 3\n",
            "Solution Exists:The optimal heuristic is: 3  Following are the assigned colors \n",
            "1 2 3 3 1 2 "
          ]
        }
      ],
      "source": [
        "# Number of vertices in the graph\n",
        " \n",
        "\n",
        "# check if the colored\n",
        "# graph is safe or not\n",
        "def isSafe(graph, color):\n",
        "\n",
        "\t# check for every edge\n",
        "\tfor i in range(6):\n",
        "\t\tfor j in range(i + 1, 6):\n",
        "\t\t\tif (graph[i][j] and color[j] == color[i]):\n",
        "\t\t\t\treturn False\n",
        "\treturn True\n",
        "\n",
        "# /* This function solves the m Coloring\n",
        "# problem using recursion. It returns\n",
        "# false if the m colours cannot be assigned,\n",
        "# otherwise, return true and prints\n",
        "# assignments of colours to all vertices.\n",
        "# Please note that there may be more than\n",
        "# one solutions, this function prints one\n",
        "# of the feasible solutions.*/\n",
        "def graphColoring(graph, m, i, color):\n",
        "\n",
        "\t# if current index reached end\n",
        "\tif (i == 6):\n",
        "\n",
        "\t\t# if coloring is safe\n",
        "\t\tif (isSafe(graph, color)):\n",
        "\n",
        "\t\t\t# Print the solution\n",
        "\t\t\tprintSolution(color)\n",
        "\t\t\treturn True\n",
        "\t\treturn False\n",
        "\n",
        "\t# Assign each color from 1 to m\n",
        "\tfor j in range(1, m + 1):\n",
        "\t\tcolor[i] = j\n",
        "\n",
        "\t\t# Recur of the rest vertices\n",
        "\t\tif (graphColoring(graph, m, i + 1, color)):\n",
        "\t\t\treturn True\n",
        "\t\tcolor[i] = 0\n",
        "\treturn False\n",
        "\n",
        "# /* A utility function to print solution */\n",
        "def printSolution(color):\n",
        "\tprint(\"Solution Exists:\" \"The optimal heuristic is:\",m,  \" Following are the assigned colors \")\n",
        "\tfor i in range(6):\n",
        "\t\tprint(color[i],end=\" \")\n",
        "\n",
        "# Driver code\n",
        "if __name__ == '__main__':\n",
        "\n",
        "\t# /* Create following graph and\n",
        "\t# test whether it is 3 colorable\n",
        "\t# (3)---(2)\n",
        "\t# | / |\n",
        "\t# | / |\n",
        "\t# | / |\n",
        "\t# (0)---(1)\n",
        "\t# */\n",
        "  graph =  [\n",
        "\t    [ 0, 1, 1, 0, 0, 0 ],\n",
        "\t    [ 1, 0, 1, 1, 1, 0 ],\n",
        "\t    [ 1, 1, 0, 0, 1, 0 ],\n",
        "\t    [ 0, 1, 0, 0, 1, 1 ],\n",
        "      [ 0, 1, 1, 1, 0, 1 ],\n",
        "      [ 0, 0, 0, 1, 1, 0 ],\n",
        "\t  ]\n",
        "  \n",
        "  m = 1 # Number of colors\n",
        "  print(\"Starting the minimum color value m=\",m)\n",
        "  color = [0 for i in range(6)]\n",
        "\t# Initialize all color values as 0.\n",
        "\t# This initialization is needed\n",
        "\t# correct functioning of isSafe()\n",
        "\n",
        "  while (not graphColoring(graph, m, 0, color)): \n",
        "    if (not graphColoring(graph, m, 0, color)): \n",
        " \t\t  print(\"Solution does not exist. increasing m by 1,m=\",m+1)\n",
        "    m = m+1\n",
        "    color = [0 for i in range(6)]\n",
        "   \n",
        "\t# Initialize all color values as 0.\n",
        "\t# This initialization is needed\n",
        "\t# correct functioning of isSafe()"
      ]
    },
    {
      "cell_type": "code",
      "source": [
        ""
      ],
      "metadata": {
        "id": "1u0YUeioxBs1"
      },
      "execution_count": null,
      "outputs": []
    }
  ]
}