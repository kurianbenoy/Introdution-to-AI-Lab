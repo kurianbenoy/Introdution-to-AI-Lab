{
  "nbformat": 4,
  "nbformat_minor": 0,
  "metadata": {
    "colab": {
      "name": "AI_Assignment4_Task2_Final.ipynb",
      "provenance": []
    },
    "kernelspec": {
      "name": "python3",
      "display_name": "Python 3"
    },
    "language_info": {
      "name": "python"
    }
  },
  "cells": [
    {
      "cell_type": "code",
      "execution_count": 1,
      "metadata": {
        "id": "wGkt3cRSxEJ7"
      },
      "outputs": [],
      "source": [
        "def cross(A, B):\n",
        "    \"Cross product of elements in A and elements in B.\"\n",
        "    return [a+b for a in A for b in B]\n",
        "\n",
        "digits   = '123456789'\n",
        "rows     = 'ABCDEFGHI'\n",
        "cols     = digits\n",
        "squares  = cross(rows, cols)\n",
        "unitlist = ([cross(rows, c) for c in cols] +\n",
        "            [cross(r, cols) for r in rows] +\n",
        "            [cross(rs, cs) for rs in ('ABC','DEF','GHI') for cs in ('123','456','789')])\n",
        "units = dict((s, [u for u in unitlist if s in u]) \n",
        "             for s in squares)\n",
        "peers = dict((s, set(sum(units[s],[]))-set([s]))\n",
        "             for s in squares)"
      ]
    },
    {
      "cell_type": "code",
      "source": [
        "def test():\n",
        "    \"A set of unit tests.\"\n",
        "    assert len(squares) == 81\n",
        "    assert len(unitlist) == 27\n",
        "    assert all(len(units[s]) == 3 for s in squares)\n",
        "    assert all(len(peers[s]) == 20 for s in squares)\n",
        "    assert units['C2'] == [['A2', 'B2', 'C2', 'D2', 'E2', 'F2', 'G2', 'H2', 'I2'],\n",
        "                           ['C1', 'C2', 'C3', 'C4', 'C5', 'C6', 'C7', 'C8', 'C9'],\n",
        "                           ['A1', 'A2', 'A3', 'B1', 'B2', 'B3', 'C1', 'C2', 'C3']]\n",
        "    assert peers['C2'] == set(['A2', 'B2', 'D2', 'E2', 'F2', 'G2', 'H2', 'I2',\n",
        "                               'C1', 'C3', 'C4', 'C5', 'C6', 'C7', 'C8', 'C9',\n",
        "                               'A1', 'A3', 'B1', 'B3'])\n",
        "    print (\"All tests pass.\")"
      ],
      "metadata": {
        "id": "TW70f-8kxHVg"
      },
      "execution_count": 2,
      "outputs": []
    },
    {
      "cell_type": "code",
      "source": [
        "def parse_grid(grid):\n",
        "    \"\"\"Convert grid to a dict of possible values, {square: digits}, or\n",
        "    return False if a contradiction is detected.\"\"\"\n",
        "    ## To start, every square can be any digit; then assign values from the grid.\n",
        "    values = dict((s, digits) for s in squares)\n",
        "    for s,d in grid_values(grid).items():\n",
        "        if d in digits and not assign(values, s, d):\n",
        "            return False ## (Fail if we can't assign d to square s.)\n",
        "    return values\n",
        "\n",
        "def grid_values(grid):\n",
        "    \"Convert grid into a dict of {square: char} with '0' or '.' for empties.\"\n",
        "    chars = [c for c in grid if c in digits or c in '0.']\n",
        "    assert len(chars) == 81\n",
        "    return dict(zip(squares, chars))"
      ],
      "metadata": {
        "id": "P7JY0eVXxfk9"
      },
      "execution_count": 3,
      "outputs": []
    },
    {
      "cell_type": "code",
      "source": [
        "def assign(values, s, d):\n",
        "    \"\"\"Eliminate all the other values (except d) from values[s] and propagate.\n",
        "    Return values, except return False if a contradiction is detected.\"\"\"\n",
        "    other_values = values[s].replace(d, '')\n",
        "    if all(eliminate(values, s, d2) for d2 in other_values):\n",
        "        return values\n",
        "    else:\n",
        "        return False\n",
        "\n",
        "def eliminate(values, s, d):\n",
        "    \"\"\"Eliminate d from values[s]; propagate when values or places <= 2.\n",
        "    Return values, except return False if a contradiction is detected.\"\"\"\n",
        "    if d not in values[s]:\n",
        "        return values ## Already eliminated\n",
        "    values[s] = values[s].replace(d,'')\n",
        "    ## (1) If a square s is reduced to one value d2, then eliminate d2 from the peers.\n",
        "    if len(values[s]) == 0:\n",
        "\t    return False ## Contradiction: removed last value\n",
        "    elif len(values[s]) == 1:\n",
        "        d2 = values[s]\n",
        "        if not all(eliminate(values, s2, d2) for s2 in peers[s]):\n",
        "            return False\n",
        "    ## (2) If a unit u is reduced to only one place for a value d, then put it there.\n",
        "    for u in units[s]:\n",
        "\t    dplaces = [s for s in u if d in values[s]]\n",
        "\t    if len(dplaces) == 0:\n",
        "\t      return False ## Contradiction: no place for this value\n",
        "\t    elif len(dplaces) == 1: ## d can only be in one place in unit; assign it there\n",
        "\t        if not assign(values, dplaces[0], d):\n",
        "                       return False\n",
        "    return values"
      ],
      "metadata": {
        "id": "-_soMvtmxk0U"
      },
      "execution_count": 11,
      "outputs": []
    },
    {
      "cell_type": "code",
      "source": [
        "def display(values):\n",
        "    \"Display these values as a 2-D grid.\"\n",
        "    width = 1+max(len(values[s]) for s in squares)\n",
        "    line = '+'.join(['-'*(width*3)]*3)\n",
        "    for r in rows:\n",
        "        print (''.join(values[r+c].center(width)+('|' if c in '36' else '')\n",
        "                      for c in cols))\n",
        "        if r in 'CF': print (line)\n",
        "    #print"
      ],
      "metadata": {
        "id": "Bu1W_qJny-D4"
      },
      "execution_count": 12,
      "outputs": []
    },
    {
      "cell_type": "code",
      "source": [
        "def solve(grid): return search(parse_grid(grid))\n",
        "\n",
        "def search(values):\n",
        "    \"Using depth-first search and propagation, try all possible values.\"\n",
        "    if values is False:\n",
        "        return False ## Failed earlier\n",
        "    if all(len(values[s]) == 1 for s in squares): \n",
        "        return values ## Solved!\n",
        "    ## Chose the unfilled square s with the fewest possibilities\n",
        "    n,s = min((len(values[s]), s) for s in squares if len(values[s]) > 1)\n",
        "    return some(search(assign(values.copy(), s, d)) \n",
        "\t\tfor d in values[s])\n",
        "\n",
        "def some(seq):\n",
        "    \"Return some element of seq that is true.\"\n",
        "    for e in seq:\n",
        "        if e: return e\n",
        "    return False"
      ],
      "metadata": {
        "id": "3cNf9Kfk1UO_"
      },
      "execution_count": 14,
      "outputs": []
    },
    {
      "cell_type": "code",
      "source": [
        "grid1  = '530070000600195000098000060800060003400803001700020006060000280000419005000080079'\n",
        "\n",
        "display(parse_grid(grid1))"
      ],
      "metadata": {
        "colab": {
          "base_uri": "https://localhost:8080/"
        },
        "id": "9mLWa05u11hp",
        "outputId": "69fdccea-a824-47fd-8d61-14af7f9129da"
      },
      "execution_count": 16,
      "outputs": [
        {
          "output_type": "stream",
          "name": "stdout",
          "text": [
            "5 3 4 |6 7 8 |9 1 2 \n",
            "6 7 2 |1 9 5 |3 4 8 \n",
            "1 9 8 |3 4 2 |5 6 7 \n",
            "------+------+------\n",
            "8 5 9 |7 6 1 |4 2 3 \n",
            "4 2 6 |8 5 3 |7 9 1 \n",
            "7 1 3 |9 2 4 |8 5 6 \n",
            "------+------+------\n",
            "9 6 1 |5 3 7 |2 8 4 \n",
            "2 8 7 |4 1 9 |6 3 5 \n",
            "3 4 5 |2 8 6 |1 7 9 \n"
          ]
        }
      ]
    },
    {
      "cell_type": "markdown",
      "source": [
        ""
      ],
      "metadata": {
        "id": "DdWR_2624q0_"
      }
    }
  ]
}